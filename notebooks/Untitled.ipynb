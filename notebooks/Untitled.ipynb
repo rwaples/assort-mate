{
 "cells": [
  {
   "cell_type": "code",
   "execution_count": 1,
   "id": "3a37b7c3",
   "metadata": {},
   "outputs": [],
   "source": [
    "import sys\n",
    "sys.path.insert(1, '/home/kele/Documents/assort-mate/src/assortmate')\n",
    "from funcs import Zdiff_N01, get_ancestry_decay, get_human_rec_map\n"
   ]
  },
  {
   "cell_type": "code",
   "execution_count": 29,
   "id": "f8379ce0",
   "metadata": {},
   "outputs": [],
   "source": [
    "import stdpopsim\n",
    "import numpy as np\n",
    "import matplotlib.pyplot as plt\n",
    "import seaborn as sns"
   ]
  },
  {
   "cell_type": "code",
   "execution_count": 3,
   "id": "f15824d5",
   "metadata": {},
   "outputs": [],
   "source": [
    "map_of_chr = {}\n",
    "species = stdpopsim.get_species('HomSap')\n",
    "for contig in [f'chr{x}' for x in range(1, 23)]:\n",
    "\t\tmap_of_chr[contig] = species.get_contig(contig).recombination_map"
   ]
  },
  {
   "cell_type": "code",
   "execution_count": 4,
   "id": "b6e29fa3",
   "metadata": {},
   "outputs": [],
   "source": [
    "#species.get_contig('chr22').recombination_map.get_positions()"
   ]
  },
  {
   "cell_type": "code",
   "execution_count": 5,
   "id": "2b2bf89a",
   "metadata": {},
   "outputs": [
    {
     "data": {
      "text/plain": [
       "array([2.10572339e-08])"
      ]
     },
     "execution_count": 5,
     "metadata": {},
     "output_type": "execute_result"
    }
   ],
   "source": [
    "p = species.get_contig('chr22').recombination_map.position.copy()\n",
    "r = species.get_contig('chr22').recombination_map.rate.copy()\n",
    "r"
   ]
  },
  {
   "cell_type": "code",
   "execution_count": 6,
   "id": "b67e3320",
   "metadata": {},
   "outputs": [
    {
     "data": {
      "text/plain": [
       "2.1057233894035443e-08"
      ]
     },
     "execution_count": 6,
     "metadata": {},
     "output_type": "execute_result"
    }
   ],
   "source": [
    "r[0]"
   ]
  },
  {
   "cell_type": "code",
   "execution_count": 7,
   "id": "0ef355e7",
   "metadata": {},
   "outputs": [],
   "source": [
    "p[0] = 0"
   ]
  },
  {
   "cell_type": "code",
   "execution_count": 8,
   "id": "aacdb408",
   "metadata": {},
   "outputs": [
    {
     "name": "stdout",
     "output_type": "stream",
     "text": [
      "[0.0, 248956422.0, 248956423.0, 491149952.0, 491149953.0, 689445512.0, 689445513.0, 879660068.0, 879660069.0, 1061198328.0, 1061198329.0, 1232004308.0, 1232004309.0, 1391350282.0, 1391350283.0, 1536488919.0, 1536488920.0, 1674883637.0, 1674883638.0, 1808681060.0, 1808681061.0, 1943767683.0, 1943767684.0, 2077042993.0, 2077042994.0, 2191407322.0, 2191407323.0, 2298451041.0, 2298451042.0, 2400442231.0, 2400442232.0, 2490780577.0, 2490780578.0, 2574038019.0, 2574038020.0, 2654411305.0, 2654411306.0, 2713028922.0, 2713028923.0, 2777473090.0, 2777473091.0, 2824183074.0, 2824183075.0, 2875001543.0]\n",
      "[1.1523470111585671e-08, 0.5, 1.1042947599187705e-08, 0.5, 1.1258496243179589e-08, 0.5, 1.148200397734684e-08, 0.5, 1.1244324085272748e-08, 0.5, 1.1265873463291707e-08, 0.5, 1.177126324439884e-08, 0.5, 1.1604882118427952e-08, 0.5, 1.219866363355389e-08, 0.5, 1.3333710355319759e-08, 0.5, 1.1721276661036567e-08, 0.5, 1.3098075878935492e-08, 0.5, 1.3061005794618377e-08, 0.5, 1.3629801391728677e-08, 0.5, 1.738760443308643e-08, 0.5, 1.4831470988338458e-08, 0.5, 1.55382549450431e-08, 0.5, 1.4645528336185072e-08, 0.5, 1.8384797447801312e-08, 0.5, 1.6788552013988714e-08, 0.5, 1.724434082825555e-08, 0.5, 2.1057233894035443e-08, 0.5]\n"
     ]
    },
    {
     "data": {
      "text/html": [
       "<div><style scoped=\"\">\n",
       "            .tskit-table thead tr th:only-of-type {vertical-align: middle;}\n",
       "            .tskit-table thead tr th {text-align: center;vertical-align: top;}\n",
       "            .tskit-table tbody td {text-align: right;padding: 0.5em 0.5em;}\n",
       "            .tskit-table tbody th {padding: 0.5em 0.5em;}\n",
       "        </style><b></b><table border=\"1\" class=\"tskit-table\"><thead><tr><th>left</th><th>right</th><th>mid</th><th>span</th><th>rate</th></tr></thead><tbody><tr><td>0</td><td>248956422</td><td>124478211</td><td>248956422</td><td>1.2e-08</td></tr><tr><td>248956422</td><td>248956423</td><td>248956422.5</td><td>1</td><td>0.5</td></tr><tr><td>248956423</td><td>491149952</td><td>370053187.5</td><td>242193529</td><td>1.1e-08</td></tr><tr><td>491149952</td><td>491149953</td><td>491149952.5</td><td>1</td><td>0.5</td></tr><tr><td>491149953</td><td>689445512</td><td>590297732.5</td><td>198295559</td><td>1.1e-08</td></tr><tr><td>689445512</td><td>689445513</td><td>689445512.5</td><td>1</td><td>0.5</td></tr><tr><td>689445513</td><td>879660068</td><td>784552790.5</td><td>190214555</td><td>1.1e-08</td></tr><tr><td>879660068</td><td>879660069</td><td>879660068.5</td><td>1</td><td>0.5</td></tr><tr><td>879660069</td><td>1061198328</td><td>970429198.5</td><td>181538259</td><td>1.1e-08</td></tr><tr><td>1061198328</td><td>1061198329</td><td>1061198328</td><td>1</td><td>0.5</td></tr><tr><td>⋯</td><td>⋯</td><td>⋯</td><td>⋯</td><td>⋯</td></tr><tr><td>2574038019</td><td>2574038020</td><td>2574038020</td><td>1</td><td>0.5</td></tr><tr><td>2574038020</td><td>2654411305</td><td>2614224662</td><td>80373285</td><td>1.5e-08</td></tr><tr><td>2654411305</td><td>2654411306</td><td>2654411306</td><td>1</td><td>0.5</td></tr><tr><td>2654411306</td><td>2713028922</td><td>2683720114</td><td>58617616</td><td>1.8e-08</td></tr><tr><td>2713028922</td><td>2713028923</td><td>2713028922</td><td>1</td><td>0.5</td></tr><tr><td>2713028923</td><td>2777473090</td><td>2745251006</td><td>64444167</td><td>1.7e-08</td></tr><tr><td>2777473090</td><td>2777473091</td><td>2777473090</td><td>1</td><td>0.5</td></tr><tr><td>2777473091</td><td>2824183074</td><td>2800828082</td><td>46709983</td><td>1.7e-08</td></tr><tr><td>2824183074</td><td>2824183075</td><td>2824183074</td><td>1</td><td>0.5</td></tr><tr><td>2824183075</td><td>2875001543</td><td>2849592309</td><td>50818468</td><td>2.1e-08</td></tr></tbody></table></div>"
      ],
      "text/plain": [
       "RateMap(position=array([0.00000000e+00, 2.48956422e+08, 2.48956423e+08, 4.91149952e+08,\n",
       "       4.91149953e+08, 6.89445512e+08, 6.89445513e+08, 8.79660068e+08,\n",
       "       8.79660069e+08, 1.06119833e+09, 1.06119833e+09, 1.23200431e+09,\n",
       "       1.23200431e+09, 1.39135028e+09, 1.39135028e+09, 1.53648892e+09,\n",
       "       1.53648892e+09, 1.67488364e+09, 1.67488364e+09, 1.80868106e+09,\n",
       "       1.80868106e+09, 1.94376768e+09, 1.94376768e+09, 2.07704299e+09,\n",
       "       2.07704299e+09, 2.19140732e+09, 2.19140732e+09, 2.29845104e+09,\n",
       "       2.29845104e+09, 2.40044223e+09, 2.40044223e+09, 2.49078058e+09,\n",
       "       2.49078058e+09, 2.57403802e+09, 2.57403802e+09, 2.65441130e+09,\n",
       "       2.65441131e+09, 2.71302892e+09, 2.71302892e+09, 2.77747309e+09,\n",
       "       2.77747309e+09, 2.82418307e+09, 2.82418308e+09, 2.87500154e+09]), rate=array([1.15234701e-08, 5.00000000e-01, 1.10429476e-08, 5.00000000e-01,\n",
       "       1.12584962e-08, 5.00000000e-01, 1.14820040e-08, 5.00000000e-01,\n",
       "       1.12443241e-08, 5.00000000e-01, 1.12658735e-08, 5.00000000e-01,\n",
       "       1.17712632e-08, 5.00000000e-01, 1.16048821e-08, 5.00000000e-01,\n",
       "       1.21986636e-08, 5.00000000e-01, 1.33337104e-08, 5.00000000e-01,\n",
       "       1.17212767e-08, 5.00000000e-01, 1.30980759e-08, 5.00000000e-01,\n",
       "       1.30610058e-08, 5.00000000e-01, 1.36298014e-08, 5.00000000e-01,\n",
       "       1.73876044e-08, 5.00000000e-01, 1.48314710e-08, 5.00000000e-01,\n",
       "       1.55382549e-08, 5.00000000e-01, 1.46455283e-08, 5.00000000e-01,\n",
       "       1.83847974e-08, 5.00000000e-01, 1.67885520e-08, 5.00000000e-01,\n",
       "       1.72443408e-08, 5.00000000e-01, 2.10572339e-08]))"
      ]
     },
     "execution_count": 8,
     "metadata": {},
     "output_type": "execute_result"
    }
   ],
   "source": [
    "get_human_rec_map()"
   ]
  },
  {
   "cell_type": "code",
   "execution_count": 17,
   "id": "fc073220",
   "metadata": {},
   "outputs": [
    {
     "data": {
      "text/plain": [
       "<numpy.lib.npyio.NpzFile at 0x7f248de955d0>"
      ]
     },
     "execution_count": 17,
     "metadata": {},
     "output_type": "execute_result"
    }
   ],
   "source": [
    "arr = np.load('/home/kele/Documents/assort-mate/temp/717310.lad.npz')\n",
    "arr"
   ]
  },
  {
   "cell_type": "code",
   "execution_count": 26,
   "id": "90751311",
   "metadata": {},
   "outputs": [],
   "source": [
    "running = arr['running']\n",
    "count = arr['count']\n",
    "decay = running.sum(0)/count.sum(0)"
   ]
  },
  {
   "cell_type": "code",
   "execution_count": 30,
   "id": "03a076cd",
   "metadata": {},
   "outputs": [
    {
     "data": {
      "text/plain": [
       "[<matplotlib.lines.Line2D at 0x7f248ac844f0>]"
      ]
     },
     "execution_count": 30,
     "metadata": {},
     "output_type": "execute_result"
    },
    {
     "data": {
      "image/png": "[encoded data removed]",
      "text/plain": [
       "<Figure size 640x480 with 1 Axes>"
      ]
     },
     "metadata": {},
     "output_type": "display_data"
    }
   ],
   "source": [
    "plt.plot(decay)"
   ]
  },
  {
   "cell_type": "code",
   "execution_count": null,
   "id": "21e2ba4f",
   "metadata": {},
   "outputs": [],
   "source": []
  }
 ],
 "metadata": {
  "kernelspec": {
   "display_name": "Python 3 (ipykernel)",
   "language": "python",
   "name": "python3"
  },
  "language_info": {
   "codemirror_mode": {
    "name": "ipython",
    "version": 3
   },
   "file_extension": ".py",
   "mimetype": "text/x-python",
   "name": "python",
   "nbconvert_exporter": "python",
   "pygments_lexer": "ipython3",
   "version": "3.10.8"
  }
 },
 "nbformat": 4,
 "nbformat_minor": 5
}
